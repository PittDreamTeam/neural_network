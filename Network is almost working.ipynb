{
 "cells": [
  {
   "cell_type": "code",
   "execution_count": 6,
   "metadata": {
    "collapsed": true
   },
   "outputs": [],
   "source": [
    "import network as nn"
   ]
  },
  {
   "cell_type": "code",
   "execution_count": 9,
   "metadata": {
    "collapsed": false
   },
   "outputs": [],
   "source": [
    "%reload_ext autoreload\n",
    "%autoreload 2\n",
    "import numpy as np"
   ]
  },
  {
   "cell_type": "code",
   "execution_count": 10,
   "metadata": {
    "collapsed": true
   },
   "outputs": [],
   "source": [
    "data_set = [\n",
    "    (np.array([0,0,0,0]), np.array([0])),\n",
    "    (np.array([0,0,0,1]), np.array([1])),\n",
    "    (np.array([0,0,1,0]), np.array([1])),\n",
    "    (np.array([0,0,1,1]), np.array([0])),\n",
    "    (np.array([0,1,0,0]), np.array([1])),\n",
    "    (np.array([0,1,0,1]), np.array([0])),\n",
    "    (np.array([0,1,1,0]), np.array([0])),\n",
    "    (np.array([0,1,1,1]), np.array([1])),\n",
    "    (np.array([1,0,0,0]), np.array([1])),\n",
    "    (np.array([1,0,0,1]), np.array([0])),\n",
    "    (np.array([1,0,1,0]), np.array([0])),\n",
    "    (np.array([1,0,1,1]), np.array([1])),\n",
    "    (np.array([1,1,0,0]), np.array([0])),\n",
    "    (np.array([1,1,0,1]), np.array([1])),\n",
    "    (np.array([1,1,1,0]), np.array([1])),\n",
    "    (np.array([1,1,1,1]), np.array([0])),\n",
    "]"
   ]
  },
  {
   "cell_type": "code",
   "execution_count": 17,
   "metadata": {
    "collapsed": true
   },
   "outputs": [],
   "source": [
    "train = data_set[:12]\n",
    "test = data_set[12:]"
   ]
  },
  {
   "cell_type": "code",
   "execution_count": 18,
   "metadata": {
    "collapsed": false,
    "scrolled": true
   },
   "outputs": [],
   "source": [
    "import network as nn\n",
    "net = nn.Network([4,4,1])"
   ]
  },
  {
   "cell_type": "code",
   "execution_count": 34,
   "metadata": {
    "collapsed": false
   },
   "outputs": [
    {
     "name": "stdout",
     "output_type": "stream",
     "text": [
      "[[7.99887579]]\n",
      "Epoch 0: 8 / 16\n",
      "[[8.00003857]]\n",
      "Epoch 1: 8 / 16\n",
      "[[8.00004981]]\n",
      "Epoch 2: 8 / 16\n",
      "[[8.00007461]]\n",
      "Epoch 3: 8 / 16\n",
      "[[8.00019635]]\n",
      "Epoch 4: 8 / 16\n",
      "[[7.99998946]]\n",
      "Epoch 5: 8 / 16\n",
      "[[7.9999812]]\n",
      "Epoch 6: 8 / 16\n",
      "[[8.00002356]]\n",
      "Epoch 7: 8 / 16\n",
      "[[8.00095268]]\n",
      "Epoch 8: 8 / 16\n",
      "[[7.99811353]]\n",
      "Epoch 9: 8 / 16\n",
      "[[7.99868603]]\n",
      "Epoch 10: 8 / 16\n",
      "[[7.99997069]]\n",
      "Epoch 11: 8 / 16\n",
      "[[7.9999694]]\n",
      "Epoch 12: 8 / 16\n",
      "[[7.99996799]]\n",
      "Epoch 13: 8 / 16\n",
      "[[7.99996644]]\n",
      "Epoch 14: 8 / 16\n",
      "[[7.99996474]]\n",
      "Epoch 15: 8 / 16\n",
      "[[7.99996286]]\n",
      "Epoch 16: 8 / 16\n",
      "[[7.99996076]]\n",
      "Epoch 17: 8 / 16\n",
      "[[7.99995842]]\n",
      "Epoch 18: 8 / 16\n",
      "[[7.99995579]]\n",
      "Epoch 19: 8 / 16\n",
      "[[7.9999528]]\n",
      "Epoch 20: 8 / 16\n",
      "[[7.99994939]]\n",
      "Epoch 21: 8 / 16\n",
      "[[7.99994544]]\n",
      "Epoch 22: 8 / 16\n",
      "[[7.99994084]]\n",
      "Epoch 23: 8 / 16\n",
      "[[7.99993539]]\n",
      "Epoch 24: 8 / 16\n",
      "[[7.99992885]]\n",
      "Epoch 25: 8 / 16\n",
      "[[7.99992089]]\n",
      "Epoch 26: 8 / 16\n",
      "[[7.99991091]]\n",
      "Epoch 27: 8 / 16\n",
      "[[7.99989814]]\n",
      "Epoch 28: 8 / 16\n",
      "[[7.9998811]]\n",
      "Epoch 29: 8 / 16\n",
      "[[7.99985744]]\n",
      "Epoch 30: 8 / 16\n",
      "[[7.99982245]]\n",
      "Epoch 31: 8 / 16\n",
      "[[7.99976563]]\n",
      "Epoch 32: 8 / 16\n",
      "[[7.99965833]]\n",
      "Epoch 33: 8 / 16\n",
      "[[7.99938965]]\n",
      "Epoch 34: 8 / 16\n",
      "[[7.99793342]]\n",
      "Epoch 35: 8 / 16\n",
      "[[7.99998304]]\n",
      "Epoch 36: 8 / 16\n",
      "[[7.99998242]]\n",
      "Epoch 37: 8 / 16\n",
      "[[7.99998176]]\n",
      "Epoch 38: 8 / 16\n",
      "[[7.99998105]]\n",
      "Epoch 39: 8 / 16\n",
      "[[7.99998028]]\n",
      "Epoch 40: 8 / 16\n",
      "[[7.99997944]]\n",
      "Epoch 41: 8 / 16\n",
      "[[7.99997853]]\n",
      "Epoch 42: 8 / 16\n",
      "[[7.99997754]]\n",
      "Epoch 43: 8 / 16\n",
      "[[7.99997645]]\n",
      "Epoch 44: 8 / 16\n",
      "[[7.99997526]]\n",
      "Epoch 45: 8 / 16\n",
      "[[7.99997395]]\n",
      "Epoch 46: 8 / 16\n",
      "[[7.99997248]]\n",
      "Epoch 47: 8 / 16\n",
      "[[7.99997085]]\n",
      "Epoch 48: 8 / 16\n",
      "[[7.99996901]]\n",
      "Epoch 49: 8 / 16\n",
      "[[7.99996693]]\n",
      "Epoch 50: 8 / 16\n",
      "[[7.99996455]]\n",
      "Epoch 51: 8 / 16\n",
      "[[7.99996181]]\n",
      "Epoch 52: 8 / 16\n",
      "[[7.99995863]]\n",
      "Epoch 53: 8 / 16\n",
      "[[7.99995486]]\n",
      "Epoch 54: 8 / 16\n",
      "[[7.99995036]]\n",
      "Epoch 55: 8 / 16\n",
      "[[7.99994489]]\n",
      "Epoch 56: 8 / 16\n",
      "[[7.99993812]]\n",
      "Epoch 57: 8 / 16\n",
      "[[7.99992947]]\n",
      "Epoch 58: 8 / 16\n",
      "[[7.99991815]]\n",
      "Epoch 59: 8 / 16\n",
      "[[7.99990255]]\n",
      "Epoch 60: 8 / 16\n",
      "[[7.99987982]]\n",
      "Epoch 61: 8 / 16\n",
      "[[7.99984401]]\n",
      "Epoch 62: 8 / 16\n",
      "[[7.99977999]]\n",
      "Epoch 63: 8 / 16\n"
     ]
    }
   ],
   "source": [
    "net.reset()\n",
    "net.SGD(data_set, 64, 4, 100, data_set)"
   ]
  },
  {
   "cell_type": "code",
   "execution_count": 20,
   "metadata": {
    "collapsed": false
   },
   "outputs": [
    {
     "data": {
      "text/plain": [
       "[array([[ 0.0113411 , -1.00001069,  0.24631305,  0.09661611],\n",
       "        [ 0.46426021,  0.5162463 , -2.99988128, -2.86983416],\n",
       "        [-0.01823782, -0.32157668, -1.66558929, -1.15106905],\n",
       "        [ 0.17645416, -0.50764209, -1.20228797, -0.46824712]]),\n",
       " array([[ 0.76874153,  1.79528682,  0.24719217, -0.25154971]])]"
      ]
     },
     "execution_count": 20,
     "metadata": {},
     "output_type": "execute_result"
    }
   ],
   "source": [
    "net.weights"
   ]
  },
  {
   "cell_type": "code",
   "execution_count": 21,
   "metadata": {
    "collapsed": false
   },
   "outputs": [
    {
     "data": {
      "text/plain": [
       "[array([[-2.59218928],\n",
       "        [-0.25866832],\n",
       "        [-1.109937  ],\n",
       "        [-1.40528882]]), array([[0.13924341]])]"
      ]
     },
     "execution_count": 21,
     "metadata": {},
     "output_type": "execute_result"
    }
   ],
   "source": [
    "net.biases"
   ]
  },
  {
   "cell_type": "code",
   "execution_count": 22,
   "metadata": {
    "collapsed": false
   },
   "outputs": [
    {
     "data": {
      "text/plain": [
       "array([[0.54339021]])"
      ]
     },
     "execution_count": 22,
     "metadata": {},
     "output_type": "execute_result"
    }
   ],
   "source": [
    "net.feedforward(np.array([1,1,1,1]))"
   ]
  },
  {
   "cell_type": "code",
   "execution_count": null,
   "metadata": {
    "collapsed": true
   },
   "outputs": [],
   "source": []
  }
 ],
 "metadata": {
  "kernelspec": {
   "display_name": "Python 3",
   "language": "python",
   "name": "python3"
  },
  "language_info": {
   "codemirror_mode": {
    "name": "ipython",
    "version": 3
   },
   "file_extension": ".py",
   "mimetype": "text/x-python",
   "name": "python",
   "nbconvert_exporter": "python",
   "pygments_lexer": "ipython3",
   "version": "3.5.1"
  }
 },
 "nbformat": 4,
 "nbformat_minor": 0
}
