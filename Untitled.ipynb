{
 "cells": [
  {
   "cell_type": "code",
   "execution_count": 87,
   "metadata": {
    "collapsed": true
   },
   "outputs": [],
   "source": [
    "import numpy as np"
   ]
  },
  {
   "cell_type": "code",
   "execution_count": 88,
   "metadata": {
    "collapsed": false
   },
   "outputs": [],
   "source": [
    "class Model:\n",
    "    def __init__(self, layers):\n",
    "        \"\"\"layers is a list (or tuple) of ints, specifying the shape of the network.\"\"\"\n",
    "        self.num_layers = len(layers)\n",
    "        self.input_layer = layers[0]\n",
    "        self.bias = []\n",
    "        self.weight = []\n",
    "        previous_layer = self.input_layer\n",
    "        for i, n in enumerate(layers[1:]):\n",
    "            self.bias.append(np.random.randn(n, 1))\n",
    "            self.weight.append(np.random.randn(n, previous_layer))\n",
    "            previous_layer = n\n",
    "    \n",
    "    def to_json(self):\n",
    "        import json\n",
    "        listify = lambda x: x.tolist()\n",
    "        temp = {\n",
    "            'bias': list(map(listify, self.bias)),\n",
    "            'weight': list(map(listify, self.weight))\n",
    "        }\n",
    "        return json.dumps(temp)\n",
    "    \n",
    "    def __str__(self):\n",
    "        return self.to_json()\n",
    "    def __repr__(self):\n",
    "        return str(self)"
   ]
  },
  {
   "cell_type": "code",
   "execution_count": 89,
   "metadata": {
    "collapsed": false
   },
   "outputs": [
    {
     "data": {
      "text/plain": [
       "{\"weight\": [[[0.26197961343263493], [0.407380612781499]], [[-0.23079476785943617, 1.513410371195832], [0.23961654942987648, -1.3087943794630126], [-0.45775909324890446, 0.8560851992019332]]], \"bias\": [[[-1.1481941260459372], [0.647803962769608]], [[0.5303166755170197], [0.7260848124916739], [0.7307601197163105]]]}"
      ]
     },
     "execution_count": 89,
     "metadata": {},
     "output_type": "execute_result"
    }
   ],
   "source": [
    "temp = Model([1,2,3])\n",
    "temp"
   ]
  },
  {
   "cell_type": "code",
   "execution_count": 90,
   "metadata": {
    "collapsed": false
   },
   "outputs": [
    {
     "data": {
      "text/plain": [
       "3"
      ]
     },
     "execution_count": 90,
     "metadata": {},
     "output_type": "execute_result"
    }
   ],
   "source": [
    "temp.num_layers"
   ]
  },
  {
   "cell_type": "code",
   "execution_count": 91,
   "metadata": {
    "collapsed": false
   },
   "outputs": [
    {
     "data": {
      "text/plain": [
       "[array([[-1.14819413],\n",
       "        [ 0.64780396]]), array([[0.53031668],\n",
       "        [0.72608481],\n",
       "        [0.73076012]])]"
      ]
     },
     "execution_count": 91,
     "metadata": {},
     "output_type": "execute_result"
    }
   ],
   "source": [
    "temp.bias"
   ]
  },
  {
   "cell_type": "code",
   "execution_count": 92,
   "metadata": {
    "collapsed": false
   },
   "outputs": [
    {
     "data": {
      "text/plain": [
       "1"
      ]
     },
     "execution_count": 92,
     "metadata": {},
     "output_type": "execute_result"
    }
   ],
   "source": [
    "temp.input_layer"
   ]
  },
  {
   "cell_type": "code",
   "execution_count": 93,
   "metadata": {
    "collapsed": false
   },
   "outputs": [
    {
     "data": {
      "text/plain": [
       "[[0.26197961343263493], [0.407380612781499]]"
      ]
     },
     "execution_count": 93,
     "metadata": {},
     "output_type": "execute_result"
    }
   ],
   "source": [
    "temp.weight[0].tolist()"
   ]
  },
  {
   "cell_type": "code",
   "execution_count": 94,
   "metadata": {
    "collapsed": true
   },
   "outputs": [],
   "source": [
    "w = temp.weight[0]"
   ]
  },
  {
   "cell_type": "code",
   "execution_count": 95,
   "metadata": {
    "collapsed": false
   },
   "outputs": [
    {
     "data": {
      "text/plain": [
       "array([0.08435744, 0.13117656])"
      ]
     },
     "execution_count": 95,
     "metadata": {},
     "output_type": "execute_result"
    }
   ],
   "source": [
    "w.dot(np.array([0.322]))"
   ]
  },
  {
   "cell_type": "code",
   "execution_count": 96,
   "metadata": {
    "collapsed": false
   },
   "outputs": [
    {
     "ename": "ImportError",
     "evalue": "No module named 'neural_network'",
     "output_type": "error",
     "traceback": [
      "\u001b[1;31m---------------------------------------------------------------------------\u001b[0m",
      "\u001b[1;31mImportError\u001b[0m                               Traceback (most recent call last)",
      "\u001b[1;32m<ipython-input-96-a7f784a2f9ff>\u001b[0m in \u001b[0;36m<module>\u001b[1;34m()\u001b[0m\n\u001b[1;32m----> 1\u001b[1;33m \u001b[1;32mimport\u001b[0m \u001b[0mneural_network\u001b[0m \u001b[1;32mas\u001b[0m \u001b[0mnn\u001b[0m\u001b[1;33m\u001b[0m\u001b[0m\n\u001b[0m",
      "\u001b[1;31mImportError\u001b[0m: No module named 'neural_network'"
     ]
    }
   ],
   "source": [
    "import neural_network as nn"
   ]
  },
  {
   "cell_type": "code",
   "execution_count": 97,
   "metadata": {
    "collapsed": false
   },
   "outputs": [
    {
     "ename": "AttributeError",
     "evalue": "module 'os' has no attribute 'pwd'",
     "output_type": "error",
     "traceback": [
      "\u001b[1;31m---------------------------------------------------------------------------\u001b[0m",
      "\u001b[1;31mAttributeError\u001b[0m                            Traceback (most recent call last)",
      "\u001b[1;32m<ipython-input-97-b589b834825a>\u001b[0m in \u001b[0;36m<module>\u001b[1;34m()\u001b[0m\n\u001b[0;32m      1\u001b[0m \u001b[1;32mimport\u001b[0m \u001b[0mos\u001b[0m\u001b[1;33m\u001b[0m\u001b[0m\n\u001b[1;32m----> 2\u001b[1;33m \u001b[0mos\u001b[0m\u001b[1;33m.\u001b[0m\u001b[0mpwd\u001b[0m\u001b[1;33m(\u001b[0m\u001b[1;33m)\u001b[0m\u001b[1;33m\u001b[0m\u001b[0m\n\u001b[0m",
      "\u001b[1;31mAttributeError\u001b[0m: module 'os' has no attribute 'pwd'"
     ]
    }
   ],
   "source": [
    "import os\n",
    "os.pwd()"
   ]
  },
  {
   "cell_type": "code",
   "execution_count": 98,
   "metadata": {
    "collapsed": false
   },
   "outputs": [
    {
     "ename": "ImportError",
     "evalue": "No module named 'network.py'; 'network' is not a package",
     "output_type": "error",
     "traceback": [
      "\u001b[1;31m---------------------------------------------------------------------------\u001b[0m",
      "\u001b[1;31mImportError\u001b[0m                               Traceback (most recent call last)",
      "\u001b[1;32m<ipython-input-98-5c34b360d0c0>\u001b[0m in \u001b[0;36m<module>\u001b[1;34m()\u001b[0m\n\u001b[1;32m----> 1\u001b[1;33m \u001b[1;32mimport\u001b[0m \u001b[0mnetwork\u001b[0m\u001b[1;33m.\u001b[0m\u001b[0mpy\u001b[0m \u001b[1;32mas\u001b[0m \u001b[0mnn\u001b[0m\u001b[1;33m\u001b[0m\u001b[0m\n\u001b[0m",
      "\u001b[1;31mImportError\u001b[0m: No module named 'network.py'; 'network' is not a package"
     ]
    }
   ],
   "source": [
    "import network.py as nn"
   ]
  },
  {
   "cell_type": "code",
   "execution_count": 99,
   "metadata": {
    "collapsed": true
   },
   "outputs": [],
   "source": [
    "import network as nn"
   ]
  },
  {
   "cell_type": "code",
   "execution_count": 100,
   "metadata": {
    "collapsed": true
   },
   "outputs": [],
   "source": [
    "net = nn.Network([4,4,1])"
   ]
  },
  {
   "cell_type": "code",
   "execution_count": 101,
   "metadata": {
    "collapsed": false
   },
   "outputs": [
    {
     "data": {
      "text/plain": [
       "16777215"
      ]
     },
     "execution_count": 101,
     "metadata": {},
     "output_type": "execute_result"
    }
   ],
   "source": [
    "0xffffff"
   ]
  },
  {
   "cell_type": "code",
   "execution_count": 166,
   "metadata": {
    "collapsed": false
   },
   "outputs": [],
   "source": [
    "to_numpy = lambda x: (np.array(x[0]).T, np.array(x[1]))\n",
    "training_data = map(to_numpy, [\n",
    "    ([[0,0,0,0]], [[0]]),\n",
    "    ([[0,0,0,1]], [[0]]),\n",
    "    ([[0,0,1,0]], [[0]]),\n",
    "    ([[0,0,1,1]], [[0]]),\n",
    "    ([[0,1,0,0]], [[0]]),\n",
    "    ([[0,1,0,1]], [[0]]),\n",
    "    ([[0,1,1,0]], [[0]]),\n",
    "    ([[0,1,1,1]], [[0]]),\n",
    "    ([[1,0,0,0]], [[1]]),\n",
    "    ([[1,0,0,1]], [[1]]),\n",
    "    ([[1,0,1,0]], [[1]]),\n",
    "    ([[1,0,1,1]], [[1]]),\n",
    "    ([[1,1,0,0]], [[1]]),\n",
    "    ([[1,1,0,1]], [[1]]),\n",
    "    ([[1,1,1,0]], [[1]]),\n",
    "    ([[1,1,1,1]], [[1]])])"
   ]
  },
  {
   "cell_type": "code",
   "execution_count": 148,
   "metadata": {
    "collapsed": true
   },
   "outputs": [],
   "source": [
    "import random\n",
    "picks = [random.randint(0,15) for _ in range(5)]"
   ]
  },
  {
   "cell_type": "code",
   "execution_count": 160,
   "metadata": {
    "collapsed": false
   },
   "outputs": [],
   "source": [
    "picks = [12, 8, 6, 15, 7]"
   ]
  },
  {
   "cell_type": "code",
   "execution_count": 167,
   "metadata": {
    "collapsed": true
   },
   "outputs": [],
   "source": [
    "train = []\n",
    "test = []\n",
    "for i, elem in enumerate(training_data):\n",
    "    if i in picks:\n",
    "        test.append(elem)\n",
    "    else:\n",
    "        train.append(elem)"
   ]
  },
  {
   "cell_type": "code",
   "execution_count": 168,
   "metadata": {
    "collapsed": false
   },
   "outputs": [
    {
     "data": {
      "text/plain": [
       "[(array([[0],\n",
       "         [0],\n",
       "         [0],\n",
       "         [0]]), array([[0]])), (array([[0],\n",
       "         [0],\n",
       "         [0],\n",
       "         [1]]), array([[0]])), (array([[0],\n",
       "         [0],\n",
       "         [1],\n",
       "         [0]]), array([[0]])), (array([[0],\n",
       "         [0],\n",
       "         [1],\n",
       "         [1]]), array([[0]])), (array([[0],\n",
       "         [1],\n",
       "         [0],\n",
       "         [0]]), array([[0]])), (array([[0],\n",
       "         [1],\n",
       "         [0],\n",
       "         [1]]), array([[0]])), (array([[1],\n",
       "         [0],\n",
       "         [0],\n",
       "         [1]]), array([[1]])), (array([[1],\n",
       "         [0],\n",
       "         [1],\n",
       "         [0]]), array([[1]])), (array([[1],\n",
       "         [0],\n",
       "         [1],\n",
       "         [1]]), array([[1]])), (array([[1],\n",
       "         [1],\n",
       "         [0],\n",
       "         [1]]), array([[1]])), (array([[1],\n",
       "         [1],\n",
       "         [1],\n",
       "         [0]]), array([[1]]))]"
      ]
     },
     "execution_count": 168,
     "metadata": {},
     "output_type": "execute_result"
    }
   ],
   "source": [
    "train"
   ]
  },
  {
   "cell_type": "code",
   "execution_count": 169,
   "metadata": {
    "collapsed": false
   },
   "outputs": [
    {
     "data": {
      "text/plain": [
       "[(array([[0],\n",
       "         [1],\n",
       "         [1],\n",
       "         [0]]), array([[0]])), (array([[0],\n",
       "         [1],\n",
       "         [1],\n",
       "         [1]]), array([[0]])), (array([[1],\n",
       "         [0],\n",
       "         [0],\n",
       "         [0]]), array([[1]])), (array([[1],\n",
       "         [1],\n",
       "         [0],\n",
       "         [0]]), array([[1]])), (array([[1],\n",
       "         [1],\n",
       "         [1],\n",
       "         [1]]), array([[1]]))]"
      ]
     },
     "execution_count": 169,
     "metadata": {},
     "output_type": "execute_result"
    }
   ],
   "source": [
    "test"
   ]
  },
  {
   "cell_type": "code",
   "execution_count": 108,
   "metadata": {
    "collapsed": true
   },
   "outputs": [],
   "source": [
    "train.append(test.pop())"
   ]
  },
  {
   "cell_type": "code",
   "execution_count": 109,
   "metadata": {
    "collapsed": false
   },
   "outputs": [
    {
     "data": {
      "text/plain": [
       "12"
      ]
     },
     "execution_count": 109,
     "metadata": {},
     "output_type": "execute_result"
    }
   ],
   "source": [
    "len(train)"
   ]
  },
  {
   "cell_type": "code",
   "execution_count": 110,
   "metadata": {
    "collapsed": false
   },
   "outputs": [
    {
     "data": {
      "text/plain": [
       "4"
      ]
     },
     "execution_count": 110,
     "metadata": {},
     "output_type": "execute_result"
    }
   ],
   "source": [
    "len(test)"
   ]
  },
  {
   "cell_type": "code",
   "execution_count": 111,
   "metadata": {
    "collapsed": false
   },
   "outputs": [],
   "source": [
    "net = nn.Network([4,4,1])"
   ]
  },
  {
   "cell_type": "code",
   "execution_count": 112,
   "metadata": {
    "collapsed": false
   },
   "outputs": [
    {
     "name": "stdout",
     "output_type": "stream",
     "text": [
      "Epoch 0: 1 / 4\n",
      "Epoch 1: 1 / 4\n",
      "Epoch 2: 0 / 4\n",
      "Epoch 3: 1 / 4\n"
     ]
    }
   ],
   "source": [
    "net.SGD(train, 4, 4, 100, test)"
   ]
  },
  {
   "cell_type": "code",
   "execution_count": 113,
   "metadata": {
    "collapsed": false
   },
   "outputs": [
    {
     "data": {
      "text/plain": [
       "[(array([0, 0, 0, 0]), array([0])),\n",
       " (array([0, 0, 1, 1]), array([0])),\n",
       " (array([0, 1, 1, 1]), array([0])),\n",
       " (array([1, 0, 0, 0]), array([1]))]"
      ]
     },
     "execution_count": 113,
     "metadata": {},
     "output_type": "execute_result"
    }
   ],
   "source": [
    "test"
   ]
  },
  {
   "cell_type": "code",
   "execution_count": 114,
   "metadata": {
    "collapsed": false
   },
   "outputs": [
    {
     "data": {
      "text/plain": [
       "array([[0.91077283, 0.99864609, 0.00164296, 0.87214665]])"
      ]
     },
     "execution_count": 114,
     "metadata": {},
     "output_type": "execute_result"
    }
   ],
   "source": [
    "net.feedforward(test[0][0])"
   ]
  },
  {
   "cell_type": "code",
   "execution_count": 115,
   "metadata": {
    "collapsed": false
   },
   "outputs": [
    {
     "data": {
      "text/plain": [
       "<network.Network at 0x22fafe7da58>"
      ]
     },
     "execution_count": 115,
     "metadata": {},
     "output_type": "execute_result"
    }
   ],
   "source": [
    "net"
   ]
  },
  {
   "cell_type": "code",
   "execution_count": 116,
   "metadata": {
    "collapsed": false
   },
   "outputs": [
    {
     "data": {
      "text/plain": [
       "[array([[-0.7858002 , -3.82955969,  0.22838371, -1.86375585],\n",
       "        [-0.90066838, -2.95744532, -0.34568297, -1.60178097],\n",
       "        [-1.30191394, -1.99475543, -1.19891063, -1.53006061],\n",
       "        [-0.82475724, -3.87572654,  0.19113814, -1.8804198 ]]),\n",
       " array([[ 4.49133552,  6.85968316, -2.79077223,  2.97702317]])]"
      ]
     },
     "execution_count": 116,
     "metadata": {},
     "output_type": "execute_result"
    }
   ],
   "source": [
    "net.biases"
   ]
  },
  {
   "cell_type": "code",
   "execution_count": 117,
   "metadata": {
    "collapsed": false
   },
   "outputs": [
    {
     "data": {
      "text/plain": [
       "[array([[-1.07466439, -0.96111162, -1.78854505, -2.64860648],\n",
       "        [-1.17285891, -3.34108513,  0.62922827, -3.22765358],\n",
       "        [ 0.05183076, -1.80746142, -0.18310693, -3.7027703 ],\n",
       "        [-1.18748139, -3.68122922, -0.12775115, -2.47031673]]),\n",
       " array([[-2.49448252, -1.68238483, -0.5695252 , -2.55754798]])]"
      ]
     },
     "execution_count": 117,
     "metadata": {},
     "output_type": "execute_result"
    }
   ],
   "source": [
    "net.weights"
   ]
  },
  {
   "cell_type": "code",
   "execution_count": 118,
   "metadata": {
    "collapsed": true
   },
   "outputs": [],
   "source": [
    "net = nn.Network([4,4,1])"
   ]
  },
  {
   "cell_type": "code",
   "execution_count": 119,
   "metadata": {
    "collapsed": false
   },
   "outputs": [
    {
     "name": "stdout",
     "output_type": "stream",
     "text": [
      "Epoch 0: 0 / 4\n",
      "Epoch 1: 0 / 4\n",
      "Epoch 2: 0 / 4\n",
      "Epoch 3: 0 / 4\n",
      "Epoch 4: 0 / 4\n",
      "Epoch 5: 0 / 4\n",
      "Epoch 6: 0 / 4\n",
      "Epoch 7: 0 / 4\n"
     ]
    }
   ],
   "source": [
    "net.SGD(train, 8, 4, 100, test)"
   ]
  },
  {
   "cell_type": "code",
   "execution_count": 120,
   "metadata": {
    "collapsed": false
   },
   "outputs": [
    {
     "data": {
      "text/plain": [
       "array([[2, 3, 4, 5]])"
      ]
     },
     "execution_count": 120,
     "metadata": {},
     "output_type": "execute_result"
    }
   ],
   "source": [
    "np.array([[1]]) + np.array([[1, 2, 3, 4]])"
   ]
  },
  {
   "cell_type": "code",
   "execution_count": 121,
   "metadata": {
    "collapsed": true
   },
   "outputs": [],
   "source": [
    "net = nn.Network([4,4,1])"
   ]
  },
  {
   "cell_type": "code",
   "execution_count": 122,
   "metadata": {
    "collapsed": false
   },
   "outputs": [
    {
     "data": {
      "text/plain": [
       "[array([[-0.868623  , -0.5181404 ,  0.53826251,  0.8205637 ],\n",
       "        [-0.56436104,  0.0258617 ,  0.39865436,  2.0432578 ],\n",
       "        [ 0.62177281,  0.55662293,  1.34562707, -0.65631745],\n",
       "        [-0.59863131,  0.68045257,  0.43925976, -0.50375884]]),\n",
       " array([[-2.13260039,  1.40050127, -1.07346252,  0.80926761]])]"
      ]
     },
     "execution_count": 122,
     "metadata": {},
     "output_type": "execute_result"
    }
   ],
   "source": [
    "net.weights"
   ]
  },
  {
   "cell_type": "code",
   "execution_count": 123,
   "metadata": {
    "collapsed": false
   },
   "outputs": [
    {
     "data": {
      "text/plain": [
       "[array([[ 0.22101717],\n",
       "        [-0.03025589],\n",
       "        [ 0.76578302],\n",
       "        [-0.31721669]]), array([[-2.23517943]])]"
      ]
     },
     "execution_count": 123,
     "metadata": {},
     "output_type": "execute_result"
    }
   ],
   "source": [
    "net.biases"
   ]
  },
  {
   "cell_type": "code",
   "execution_count": 124,
   "metadata": {
    "collapsed": true
   },
   "outputs": [],
   "source": [
    "nabla_b = [np.zeros(b.shape) for b in net.biases]"
   ]
  },
  {
   "cell_type": "code",
   "execution_count": 125,
   "metadata": {
    "collapsed": false
   },
   "outputs": [
    {
     "data": {
      "text/plain": [
       "[array([[0.],\n",
       "        [0.],\n",
       "        [0.],\n",
       "        [0.]]), array([[0.]])]"
      ]
     },
     "execution_count": 125,
     "metadata": {},
     "output_type": "execute_result"
    }
   ],
   "source": [
    "nabla_b"
   ]
  },
  {
   "cell_type": "code",
   "execution_count": 126,
   "metadata": {
    "collapsed": true
   },
   "outputs": [],
   "source": [
    "nabla_w = [np.zeros(w.shape) for w in net.weights]"
   ]
  },
  {
   "cell_type": "code",
   "execution_count": 127,
   "metadata": {
    "collapsed": false
   },
   "outputs": [
    {
     "data": {
      "text/plain": [
       "[array([[0., 0., 0., 0.],\n",
       "        [0., 0., 0., 0.],\n",
       "        [0., 0., 0., 0.],\n",
       "        [0., 0., 0., 0.]]), array([[0., 0., 0., 0.]])]"
      ]
     },
     "execution_count": 127,
     "metadata": {},
     "output_type": "execute_result"
    }
   ],
   "source": [
    "nabla_w"
   ]
  },
  {
   "cell_type": "code",
   "execution_count": 128,
   "metadata": {
    "collapsed": false
   },
   "outputs": [
    {
     "data": {
      "text/plain": [
       "([array([[-8.91348170e-04, -7.16755565e-04, -2.68754936e-04,\n",
       "          -4.69529580e-04],\n",
       "         [ 5.93893224e-04,  5.01713886e-04,  2.13668393e-04,\n",
       "           3.53323109e-04],\n",
       "         [-3.91580147e-04, -2.85894513e-04, -8.60064186e-05,\n",
       "          -1.64480052e-04],\n",
       "         [ 3.35722106e-04,  3.00458131e-04,  1.50839982e-04,\n",
       "           2.31641400e-04]]),\n",
       "  array([[0.00169627, 0.00148937, 0.00132047, 0.00133939]])],\n",
       " [array([-0.00098551,  0.00071538, -0.0003719 ,  0.0004513 ]),\n",
       "  array([[0.00416791, 0.00388012, 0.00470499, 0.0035284 ]])])"
      ]
     },
     "execution_count": 128,
     "metadata": {},
     "output_type": "execute_result"
    }
   ],
   "source": [
    "x, y = train[0]\n",
    "delta_nabla_b, delta_nabla_w = net.backprop(x, y)\n",
    "delta_nabla_b, delta_nabla_w"
   ]
  },
  {
   "cell_type": "code",
   "execution_count": 130,
   "metadata": {
    "collapsed": false
   },
   "outputs": [
    {
     "data": {
      "text/plain": [
       "[array([[-8.91348170e-04, -7.16755565e-04, -2.68754936e-04,\n",
       "         -4.69529580e-04],\n",
       "        [ 5.93893224e-04,  5.01713886e-04,  2.13668393e-04,\n",
       "          3.53323109e-04],\n",
       "        [-3.91580147e-04, -2.85894513e-04, -8.60064186e-05,\n",
       "         -1.64480052e-04],\n",
       "        [ 3.35722106e-04,  3.00458131e-04,  1.50839982e-04,\n",
       "          2.31641400e-04]]),\n",
       " array([[0.00169627, 0.00148937, 0.00132047, 0.00133939]])]"
      ]
     },
     "execution_count": 130,
     "metadata": {},
     "output_type": "execute_result"
    }
   ],
   "source": [
    "delta_nabla_b"
   ]
  },
  {
   "cell_type": "code",
   "execution_count": 131,
   "metadata": {
    "collapsed": false
   },
   "outputs": [
    {
     "data": {
      "text/plain": [
       "[array([-0.00098551,  0.00071538, -0.0003719 ,  0.0004513 ]),\n",
       " array([[0.00416791, 0.00388012, 0.00470499, 0.0035284 ]])]"
      ]
     },
     "execution_count": 131,
     "metadata": {},
     "output_type": "execute_result"
    }
   ],
   "source": [
    "delta_nabla_w"
   ]
  },
  {
   "cell_type": "code",
   "execution_count": 132,
   "metadata": {
    "collapsed": false
   },
   "outputs": [
    {
     "data": {
      "text/plain": [
       "[array([[0., 0., 0., 0.],\n",
       "        [0., 0., 0., 0.],\n",
       "        [0., 0., 0., 0.],\n",
       "        [0., 0., 0., 0.]]), array([[0., 0., 0., 0.]])]"
      ]
     },
     "execution_count": 132,
     "metadata": {},
     "output_type": "execute_result"
    }
   ],
   "source": [
    "nabla_w"
   ]
  },
  {
   "cell_type": "code",
   "execution_count": 133,
   "metadata": {
    "collapsed": true
   },
   "outputs": [],
   "source": [
    "activation = x\n",
    "activations = [x]\n",
    "zs = []"
   ]
  },
  {
   "cell_type": "code",
   "execution_count": 135,
   "metadata": {
    "collapsed": false
   },
   "outputs": [
    {
     "data": {
      "text/plain": [
       "array([[ 0.24113928,  0.64553323,  2.12326717,  1.34072949],\n",
       "       [-0.01013378,  0.39426017,  1.87199411,  1.08945643],\n",
       "       [ 0.78590513,  1.19029907,  2.66803301,  1.88549534],\n",
       "       [-0.29709458,  0.10729937,  1.58503331,  0.80249564]])"
      ]
     },
     "execution_count": 135,
     "metadata": {},
     "output_type": "execute_result"
    }
   ],
   "source": [
    "b, w = net.biases[0], net.weights[0]\n",
    "z = np.dot(w, activation) + b\n",
    "z"
   ]
  },
  {
   "cell_type": "code",
   "execution_count": 136,
   "metadata": {
    "collapsed": false
   },
   "outputs": [
    {
     "data": {
      "text/plain": [
       "array([[-0.868623  , -0.5181404 ,  0.53826251,  0.8205637 ],\n",
       "       [-0.56436104,  0.0258617 ,  0.39865436,  2.0432578 ],\n",
       "       [ 0.62177281,  0.55662293,  1.34562707, -0.65631745],\n",
       "       [-0.59863131,  0.68045257,  0.43925976, -0.50375884]])"
      ]
     },
     "execution_count": 136,
     "metadata": {},
     "output_type": "execute_result"
    }
   ],
   "source": [
    "net.weights[0]"
   ]
  },
  {
   "cell_type": "code",
   "execution_count": 137,
   "metadata": {
    "collapsed": false
   },
   "outputs": [
    {
     "data": {
      "text/plain": [
       "(4, 4)"
      ]
     },
     "execution_count": 137,
     "metadata": {},
     "output_type": "execute_result"
    }
   ],
   "source": [
    "w.shape"
   ]
  },
  {
   "cell_type": "code",
   "execution_count": 138,
   "metadata": {
    "collapsed": false
   },
   "outputs": [
    {
     "data": {
      "text/plain": [
       "(4,)"
      ]
     },
     "execution_count": 138,
     "metadata": {},
     "output_type": "execute_result"
    }
   ],
   "source": [
    "activation.shape"
   ]
  },
  {
   "cell_type": "code",
   "execution_count": 141,
   "metadata": {
    "collapsed": true
   },
   "outputs": [],
   "source": [
    "activation = x = np.array([[0,0,0,0]]).T"
   ]
  },
  {
   "cell_type": "code",
   "execution_count": 142,
   "metadata": {
    "collapsed": false
   },
   "outputs": [
    {
     "data": {
      "text/plain": [
       "array([[ 0.22101717],\n",
       "       [-0.03025589],\n",
       "       [ 0.76578302],\n",
       "       [-0.31721669]])"
      ]
     },
     "execution_count": 142,
     "metadata": {},
     "output_type": "execute_result"
    }
   ],
   "source": [
    "b, w = net.biases[0], net.weights[0]\n",
    "z = np.dot(w, activation) + b\n",
    "z"
   ]
  },
  {
   "cell_type": "code",
   "execution_count": 143,
   "metadata": {
    "collapsed": false
   },
   "outputs": [
    {
     "data": {
      "text/plain": [
       "[(array([0, 1, 1, 0]), array([0])),\n",
       " (array([1, 1, 0, 1]), array([1])),\n",
       " (array([1, 1, 0, 0]), array([1])),\n",
       " (array([0, 1, 0, 0]), array([0])),\n",
       " (array([1, 1, 1, 1]), array([1])),\n",
       " (array([1, 0, 0, 1]), array([1])),\n",
       " (array([1, 0, 1, 0]), array([1])),\n",
       " (array([0, 1, 0, 1]), array([0])),\n",
       " (array([1, 0, 1, 1]), array([1])),\n",
       " (array([0, 0, 1, 0]), array([0])),\n",
       " (array([1, 1, 1, 0]), array([1])),\n",
       " (array([0, 0, 0, 1]), array([0]))]"
      ]
     },
     "execution_count": 143,
     "metadata": {},
     "output_type": "execute_result"
    }
   ],
   "source": [
    "train"
   ]
  },
  {
   "cell_type": "code",
   "execution_count": 145,
   "metadata": {
    "collapsed": false
   },
   "outputs": [
    {
     "data": {
      "text/plain": [
       "[(array([0, 1, 1, 0]), array([0])),\n",
       " (array([1, 1, 0, 1]), array([1])),\n",
       " (array([1, 1, 0, 0]), array([1])),\n",
       " (array([0, 1, 0, 0]), array([0])),\n",
       " (array([1, 1, 1, 1]), array([1])),\n",
       " (array([1, 0, 0, 1]), array([1])),\n",
       " (array([1, 0, 1, 0]), array([1])),\n",
       " (array([0, 1, 0, 1]), array([0])),\n",
       " (array([1, 0, 1, 1]), array([1])),\n",
       " (array([0, 0, 1, 0]), array([0])),\n",
       " (array([1, 1, 1, 0]), array([1])),\n",
       " (array([0, 0, 0, 1]), array([0]))]"
      ]
     },
     "execution_count": 145,
     "metadata": {},
     "output_type": "execute_result"
    }
   ],
   "source": [
    "list(map(lambda x: (x[0].T, x[1]), train))"
   ]
  },
  {
   "cell_type": "code",
   "execution_count": 170,
   "metadata": {
    "collapsed": false
   },
   "outputs": [
    {
     "data": {
      "text/plain": [
       "(4, 1)"
      ]
     },
     "execution_count": 170,
     "metadata": {},
     "output_type": "execute_result"
    }
   ],
   "source": [
    "train[0][0].shape"
   ]
  },
  {
   "cell_type": "code",
   "execution_count": 172,
   "metadata": {
    "collapsed": false
   },
   "outputs": [
    {
     "data": {
      "text/plain": [
       "(1, 1)"
      ]
     },
     "execution_count": 172,
     "metadata": {},
     "output_type": "execute_result"
    }
   ],
   "source": [
    "test[0][1].shape"
   ]
  },
  {
   "cell_type": "code",
   "execution_count": 173,
   "metadata": {
    "collapsed": false
   },
   "outputs": [
    {
     "name": "stdout",
     "output_type": "stream",
     "text": [
      "Epoch 0: 2 / 5\n",
      "Epoch 1: 2 / 5\n",
      "Epoch 2: 2 / 5\n",
      "Epoch 3: 2 / 5\n",
      "Epoch 4: 2 / 5\n",
      "Epoch 5: 2 / 5\n",
      "Epoch 6: 2 / 5\n",
      "Epoch 7: 2 / 5\n"
     ]
    }
   ],
   "source": [
    "net.SGD(train, 8, 4, 1, test)"
   ]
  },
  {
   "cell_type": "code",
   "execution_count": 174,
   "metadata": {
    "collapsed": false
   },
   "outputs": [
    {
     "data": {
      "text/plain": [
       "array([[0.3854843]])"
      ]
     },
     "execution_count": 174,
     "metadata": {},
     "output_type": "execute_result"
    }
   ],
   "source": [
    "net.feedforward(test[0][0])"
   ]
  },
  {
   "cell_type": "code",
   "execution_count": null,
   "metadata": {
    "collapsed": true
   },
   "outputs": [],
   "source": [
    "def reguralize_input(v):\n",
    "    # input v is a vector\n",
    "    return np.array(v.tolist()).T"
   ]
  }
 ],
 "metadata": {
  "kernelspec": {
   "display_name": "Python 3",
   "language": "python",
   "name": "python3"
  },
  "language_info": {
   "codemirror_mode": {
    "name": "ipython",
    "version": 3
   },
   "file_extension": ".py",
   "mimetype": "text/x-python",
   "name": "python",
   "nbconvert_exporter": "python",
   "pygments_lexer": "ipython3",
   "version": "3.5.1"
  }
 },
 "nbformat": 4,
 "nbformat_minor": 0
}
